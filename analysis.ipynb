{
 "cells": [
  {
   "cell_type": "markdown",
   "metadata": {},
   "source": [
    "# Analyzing the past marketing campaign to improve strategies for future ones.\n",
    "\n",
    "**Data Dictionary**:\n",
    "\n",
    "| Variable Name | Role    | Type        | Demographic        | Description                                                                                                                                               | Units | Missing Values |\n",
    "|---------------|---------|-------------|--------------------|-----------------------------------------------------------------------------------------------------------------------------------------------------------|-------|----------------|\n",
    "| age           | Feature | Integer     | Age                |                                                                                                                                                           |       | no             |\n",
    "| job           | Feature | Categorical | Occupation         | Type of job (categorical: 'admin.','blue-collar','entrepreneur','housemaid','management','retired','self-employed','services','student','technician','unemployed','unknown') |       | no             |\n",
    "| marital       | Feature | Categorical | Marital Status     | Marital status (categorical: 'divorced','married','single','unknown'; note: 'divorced' means divorced or widowed)                                          |       | no             |\n",
    "| education     | Feature | Categorical | Education Level    | (Categorical: 'basic.4y','basic.6y','basic.9y','high.school','illiterate','professional.course','university.degree','unknown')                              |       | no             |\n",
    "| default       | Feature | Binary      |                    | Has credit in default?                                                                                                                                     |       | no             |\n",
    "| balance       | Feature | Integer     |                    | Average yearly balance                                                                                                                                     | Euros | no             |\n",
    "| housing       | Feature | Binary      |                    | Has housing loan?                                                                                                                                          |       | no             |\n",
    "| loan          | Feature | Binary      |                    | Has personal loan?                                                                                                                                         |       | no             |\n",
    "| contact       | Feature | Categorical |                    | Contact communication type (categorical: 'cellular','telephone')                                                                                           |       | yes            |\n",
    "| day   | Feature | Date        |                    | Last contact day of the week                                                                                                                               |       | no             |\n",
    "| month         | Feature | Date        |                    | Last contact month of year (categorical: 'jan', 'feb', 'mar', ..., 'nov', 'dec')                                                                           |       | no             |\n",
    "| duration      | Feature | Integer     |                    | Last contact duration, in seconds (numeric). Important note: this attribute highly affects the output target (e.g., if duration=0 then y='no'). Yet, the duration is not known before a call is performed. Also, after the end of the call y is obviously known. Thus, this input should only be included for benchmark purposes and should be discarded if the intention is to have a realistic predictive model. |       | no             |\n",
    "| campaign      | Feature | Integer     |                    | Number of contacts performed during this campaign and for this client (numeric, includes last contact)                                                     |       | no             |\n",
    "| pdays         | Feature | Integer     |                    | Number of days that passed by after the client was last contacted from a previous campaign (numeric; -1 means client was not previously contacted)          |       | yes            |\n",
    "| previous      | Feature | Integer     |                    | Number of contacts performed before this campaign and for this client                                                                                      |       | no             |\n",
    "| poutcome      | Feature | Categorical |                    | Outcome of the previous marketing campaign (categorical: 'failure','nonexistent','success')                                                                |       | yes            |\n",
    "| deposit           | Target  | Binary      |                    | Has the client subscribed a term deposit?                                                                                                                 |       |                |\n",
    "\n"
   ]
  },
  {
   "cell_type": "markdown",
   "metadata": {},
   "source": [
    "## Import Libraries and Data"
   ]
  },
  {
   "cell_type": "code",
   "execution_count": 19,
   "metadata": {},
   "outputs": [],
   "source": [
    "import pandas as pd\n",
    "import seaborn as sns\n",
    "import matplotlib.pyplot as plt\n",
    "\n",
    "df = pd.read_csv('bank.csv')"
   ]
  },
  {
   "cell_type": "markdown",
   "metadata": {},
   "source": [
    "**Goal**: \n",
    "- Find the best strategies to improve for the next marketing campaign.\n",
    "- How can the financial institution have a greater effectiveness for future marketing campaigns?\n",
    "\n",
    "**Context**\n",
    "In order to answer this, we have to analyze the last marketing campaign the bank performed and identify the patterns that will help us find conclusions in order to develop future strategies.\n",
    "The marketing campaigns were based on phone calls. Often, more than one contact to the same client was required, in order to access if the product (bank term deposit) would be ('yes') or not ('no') subscribed. \n",
    "\n",
    "**Questions**:\n",
    "1. Is gender relevant?\n",
    "2. Is education relevant?\n",
    "3. Is status and stability relavant?"
   ]
  },
  {
   "cell_type": "markdown",
   "metadata": {},
   "source": [
    "### Exploratory Data Analysis (EDA)\n",
    "Conduct a thorough EDA to find patterns and correlations between features and the target variable (y - term deposit subscription).\n",
    "\n",
    "Analyze demographics:\n",
    "- Age: Identify age groups with the highest conversion rates.\n",
    "- Job, marital, education: Segment by profession, education level, and marital status to see if certain groups are more likely to subscribe.\n",
    "- Contact information:\n",
    "- Day of week, month, duration: Explore if specific days or months have higher conversion rates. Is there an ideal time to call clients?\n",
    "- Campaign performance:\n",
    "- Number of contacts (campaign): How does the number of contacts affect the likelihood of conversion?\n",
    "- Previous contacts (pdays, previous): Does recontacting a client or a previous campaign's outcome affect the likelihood of a positive response?"
   ]
  },
  {
   "cell_type": "code",
   "execution_count": 20,
   "metadata": {},
   "outputs": [
    {
     "data": {
      "text/plain": [
       "age           int64\n",
       "job          object\n",
       "marital      object\n",
       "education    object\n",
       "default      object\n",
       "balance       int64\n",
       "housing      object\n",
       "loan         object\n",
       "contact      object\n",
       "day           int64\n",
       "month        object\n",
       "duration      int64\n",
       "campaign      int64\n",
       "pdays         int64\n",
       "previous      int64\n",
       "poutcome     object\n",
       "deposit      object\n",
       "dtype: object"
      ]
     },
     "execution_count": 20,
     "metadata": {},
     "output_type": "execute_result"
    }
   ],
   "source": [
    "df.dtypes"
   ]
  },
  {
   "cell_type": "code",
   "execution_count": 21,
   "metadata": {},
   "outputs": [
    {
     "data": {
      "text/html": [
       "<div>\n",
       "<style scoped>\n",
       "    .dataframe tbody tr th:only-of-type {\n",
       "        vertical-align: middle;\n",
       "    }\n",
       "\n",
       "    .dataframe tbody tr th {\n",
       "        vertical-align: top;\n",
       "    }\n",
       "\n",
       "    .dataframe thead th {\n",
       "        text-align: right;\n",
       "    }\n",
       "</style>\n",
       "<table border=\"1\" class=\"dataframe\">\n",
       "  <thead>\n",
       "    <tr style=\"text-align: right;\">\n",
       "      <th></th>\n",
       "      <th>age</th>\n",
       "      <th>job</th>\n",
       "      <th>marital</th>\n",
       "      <th>education</th>\n",
       "      <th>default</th>\n",
       "      <th>balance</th>\n",
       "      <th>housing</th>\n",
       "      <th>loan</th>\n",
       "      <th>contact</th>\n",
       "      <th>day</th>\n",
       "      <th>month</th>\n",
       "      <th>duration</th>\n",
       "      <th>campaign</th>\n",
       "      <th>pdays</th>\n",
       "      <th>previous</th>\n",
       "      <th>poutcome</th>\n",
       "      <th>deposit</th>\n",
       "    </tr>\n",
       "  </thead>\n",
       "  <tbody>\n",
       "    <tr>\n",
       "      <th>0</th>\n",
       "      <td>59</td>\n",
       "      <td>admin.</td>\n",
       "      <td>married</td>\n",
       "      <td>secondary</td>\n",
       "      <td>no</td>\n",
       "      <td>2343</td>\n",
       "      <td>yes</td>\n",
       "      <td>no</td>\n",
       "      <td>unknown</td>\n",
       "      <td>5</td>\n",
       "      <td>may</td>\n",
       "      <td>1042</td>\n",
       "      <td>1</td>\n",
       "      <td>-1</td>\n",
       "      <td>0</td>\n",
       "      <td>unknown</td>\n",
       "      <td>yes</td>\n",
       "    </tr>\n",
       "    <tr>\n",
       "      <th>1</th>\n",
       "      <td>56</td>\n",
       "      <td>admin.</td>\n",
       "      <td>married</td>\n",
       "      <td>secondary</td>\n",
       "      <td>no</td>\n",
       "      <td>45</td>\n",
       "      <td>no</td>\n",
       "      <td>no</td>\n",
       "      <td>unknown</td>\n",
       "      <td>5</td>\n",
       "      <td>may</td>\n",
       "      <td>1467</td>\n",
       "      <td>1</td>\n",
       "      <td>-1</td>\n",
       "      <td>0</td>\n",
       "      <td>unknown</td>\n",
       "      <td>yes</td>\n",
       "    </tr>\n",
       "    <tr>\n",
       "      <th>2</th>\n",
       "      <td>41</td>\n",
       "      <td>technician</td>\n",
       "      <td>married</td>\n",
       "      <td>secondary</td>\n",
       "      <td>no</td>\n",
       "      <td>1270</td>\n",
       "      <td>yes</td>\n",
       "      <td>no</td>\n",
       "      <td>unknown</td>\n",
       "      <td>5</td>\n",
       "      <td>may</td>\n",
       "      <td>1389</td>\n",
       "      <td>1</td>\n",
       "      <td>-1</td>\n",
       "      <td>0</td>\n",
       "      <td>unknown</td>\n",
       "      <td>yes</td>\n",
       "    </tr>\n",
       "    <tr>\n",
       "      <th>3</th>\n",
       "      <td>55</td>\n",
       "      <td>services</td>\n",
       "      <td>married</td>\n",
       "      <td>secondary</td>\n",
       "      <td>no</td>\n",
       "      <td>2476</td>\n",
       "      <td>yes</td>\n",
       "      <td>no</td>\n",
       "      <td>unknown</td>\n",
       "      <td>5</td>\n",
       "      <td>may</td>\n",
       "      <td>579</td>\n",
       "      <td>1</td>\n",
       "      <td>-1</td>\n",
       "      <td>0</td>\n",
       "      <td>unknown</td>\n",
       "      <td>yes</td>\n",
       "    </tr>\n",
       "    <tr>\n",
       "      <th>4</th>\n",
       "      <td>54</td>\n",
       "      <td>admin.</td>\n",
       "      <td>married</td>\n",
       "      <td>tertiary</td>\n",
       "      <td>no</td>\n",
       "      <td>184</td>\n",
       "      <td>no</td>\n",
       "      <td>no</td>\n",
       "      <td>unknown</td>\n",
       "      <td>5</td>\n",
       "      <td>may</td>\n",
       "      <td>673</td>\n",
       "      <td>2</td>\n",
       "      <td>-1</td>\n",
       "      <td>0</td>\n",
       "      <td>unknown</td>\n",
       "      <td>yes</td>\n",
       "    </tr>\n",
       "  </tbody>\n",
       "</table>\n",
       "</div>"
      ],
      "text/plain": [
       "   age         job  marital  education default  balance housing loan  contact  \\\n",
       "0   59      admin.  married  secondary      no     2343     yes   no  unknown   \n",
       "1   56      admin.  married  secondary      no       45      no   no  unknown   \n",
       "2   41  technician  married  secondary      no     1270     yes   no  unknown   \n",
       "3   55    services  married  secondary      no     2476     yes   no  unknown   \n",
       "4   54      admin.  married   tertiary      no      184      no   no  unknown   \n",
       "\n",
       "   day month  duration  campaign  pdays  previous poutcome deposit  \n",
       "0    5   may      1042         1     -1         0  unknown     yes  \n",
       "1    5   may      1467         1     -1         0  unknown     yes  \n",
       "2    5   may      1389         1     -1         0  unknown     yes  \n",
       "3    5   may       579         1     -1         0  unknown     yes  \n",
       "4    5   may       673         2     -1         0  unknown     yes  "
      ]
     },
     "execution_count": 21,
     "metadata": {},
     "output_type": "execute_result"
    }
   ],
   "source": [
    "df.head()"
   ]
  },
  {
   "cell_type": "code",
   "execution_count": 22,
   "metadata": {},
   "outputs": [
    {
     "data": {
      "text/plain": [
       "age          0\n",
       "job          0\n",
       "marital      0\n",
       "education    0\n",
       "default      0\n",
       "balance      0\n",
       "housing      0\n",
       "loan         0\n",
       "contact      0\n",
       "day          0\n",
       "month        0\n",
       "duration     0\n",
       "campaign     0\n",
       "pdays        0\n",
       "previous     0\n",
       "poutcome     0\n",
       "deposit      0\n",
       "dtype: int64"
      ]
     },
     "execution_count": 22,
     "metadata": {},
     "output_type": "execute_result"
    }
   ],
   "source": [
    "df.isnull().sum()"
   ]
  },
  {
   "cell_type": "markdown",
   "metadata": {},
   "source": [
    "### Understand Key Metrics for Effectiveness \n",
    "Before diving into the analysis, define what \"effectiveness\" means in this context. For a marketing campaign, you likely want to improve:\n",
    "- Conversion Rate: Percentage of clients who subscribed (y = 'yes').\n",
    "- Client Retention: How many existing clients remained engaged or converted.\n",
    "- Number of Contacts: How many calls were necessary to get a conversion.\n",
    "- Response to Contact Methods: Analyze which contact methods were more successful (e.g., cellular vs. telephone)."
   ]
  },
  {
   "cell_type": "code",
   "execution_count": null,
   "metadata": {},
   "outputs": [],
   "source": []
  },
  {
   "cell_type": "markdown",
   "metadata": {},
   "source": [
    "### Segment Analysis\n",
    "Segment your clients to better understand where the most effective conversions are happening:\n",
    "- Customer segments based on demographic factors (age, job, marital status, education).\n",
    "- Engagement patterns based on previous interaction (e.g., number of contacts, days since last contact).\n",
    "- Contact method preferences: cellular vs. telephone."
   ]
  },
  {
   "cell_type": "code",
   "execution_count": null,
   "metadata": {},
   "outputs": [],
   "source": []
  },
  {
   "cell_type": "markdown",
   "metadata": {},
   "source": [
    "### Conversion and Campaign Efficiency\n",
    "Use the target variable y to investigate:\n",
    "- What patterns exist for those who subscribed?\n",
    "- Which demographic segments and contact strategies resulted in higher success rates?"
   ]
  },
  {
   "cell_type": "code",
   "execution_count": null,
   "metadata": {},
   "outputs": [],
   "source": []
  },
  {
   "cell_type": "markdown",
   "metadata": {},
   "source": [
    "### Feature Importance and Predictive Modeling\n",
    "Apply classification techniques (e.g., logistic regression, decision trees, random forest) to understand which features are most predictive of a subscription:\n",
    "- Feature importance: Identify the top features that predict whether a client will subscribe. This could be client demographics, number of contacts, or the outcome of previous campaigns.\n",
    "- Churn/No response analysis: Analyze the features that are related to a 'no' response to help target less responsive clients more efficiently."
   ]
  },
  {
   "cell_type": "code",
   "execution_count": null,
   "metadata": {},
   "outputs": [],
   "source": []
  },
  {
   "cell_type": "markdown",
   "metadata": {},
   "source": [
    "### Optimize Contact Strategy\n",
    "- Duration of contact: How long should calls last? Is there an optimal call length for success?\n",
    "- Number of contacts: Determine the ideal number of contacts that maximizes the likelihood of conversion without diminishing returns.\n",
    "- Timing: Analyze if contacting clients at specific times, days, or months leads to better conversion rates."
   ]
  },
  {
   "cell_type": "code",
   "execution_count": null,
   "metadata": {},
   "outputs": [],
   "source": []
  },
  {
   "cell_type": "markdown",
   "metadata": {},
   "source": [
    "### Key Insights and Recommendations\n",
    "After analyzing the data:\n",
    "- Target high-potential groups: Identify and focus on client segments more likely to subscribe.\n",
    "- Optimize the number of contacts: Balance between too many contacts and too few, aiming for maximum effectiveness.\n",
    "- Improve messaging strategies: Personalize campaigns based on client characteristics and past interactions.\n",
    "- Test new approaches: Based on your findings, propose changes for the next campaign and run A/B tests to validate them."
   ]
  },
  {
   "cell_type": "code",
   "execution_count": null,
   "metadata": {},
   "outputs": [],
   "source": []
  }
 ],
 "metadata": {
  "kernelspec": {
   "display_name": ".env",
   "language": "python",
   "name": "python3"
  },
  "language_info": {
   "codemirror_mode": {
    "name": "ipython",
    "version": 3
   },
   "file_extension": ".py",
   "mimetype": "text/x-python",
   "name": "python",
   "nbconvert_exporter": "python",
   "pygments_lexer": "ipython3",
   "version": "3.10.12"
  }
 },
 "nbformat": 4,
 "nbformat_minor": 2
}
